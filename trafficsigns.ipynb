{
 "cells": [
  {
   "cell_type": "code",
   "execution_count": 1,
   "metadata": {},
   "outputs": [
    {
     "ename": "ModuleNotFoundError",
     "evalue": "No module named 'tensorflow'",
     "output_type": "error",
     "traceback": [
      "\u001b[1;31m---------------------------------------------------------------------------\u001b[0m",
      "\u001b[1;31mModuleNotFoundError\u001b[0m                       Traceback (most recent call last)",
      "\u001b[1;32m<ipython-input-1-a6126f0f8939>\u001b[0m in \u001b[0;36m<module>\u001b[1;34m\u001b[0m\n\u001b[1;32m----> 1\u001b[1;33m \u001b[1;32mimport\u001b[0m \u001b[0mtensorflow\u001b[0m \u001b[1;32mas\u001b[0m \u001b[0mtf\u001b[0m\u001b[1;33m\u001b[0m\u001b[1;33m\u001b[0m\u001b[0m\n\u001b[0m\u001b[0;32m      2\u001b[0m \u001b[1;32mimport\u001b[0m \u001b[0mos\u001b[0m\u001b[1;33m\u001b[0m\u001b[1;33m\u001b[0m\u001b[0m\n\u001b[0;32m      3\u001b[0m \u001b[1;32mimport\u001b[0m \u001b[0mimageio\u001b[0m \u001b[1;32mas\u001b[0m \u001b[0mimd\u001b[0m\u001b[1;33m\u001b[0m\u001b[1;33m\u001b[0m\u001b[0m\n\u001b[0;32m      4\u001b[0m \u001b[1;32mimport\u001b[0m \u001b[0mnumpy\u001b[0m \u001b[1;32mas\u001b[0m \u001b[0mnp\u001b[0m\u001b[1;33m\u001b[0m\u001b[1;33m\u001b[0m\u001b[0m\n\u001b[0;32m      5\u001b[0m \u001b[1;32mimport\u001b[0m \u001b[0mmatplotlib\u001b[0m\u001b[1;33m.\u001b[0m\u001b[0mpyplot\u001b[0m \u001b[1;32mas\u001b[0m \u001b[0mplt\u001b[0m\u001b[1;33m\u001b[0m\u001b[1;33m\u001b[0m\u001b[0m\n",
      "\u001b[1;31mModuleNotFoundError\u001b[0m: No module named 'tensorflow'"
     ]
    }
   ],
   "source": [
    "import tensorflow as tf\n",
    "import os\n",
    "import imageio as imd\n",
    "import numpy as np\n",
    "import matplotlib.pyplot as plt\n",
    "import random \n",
    "print(tf.__version__)"
   ]
  },
  {
   "cell_type": "code",
   "execution_count": null,
   "metadata": {},
   "outputs": [],
   "source": [
    "def load_ml_data(data_directory):\n",
    "        dirs = [d for d in os.listdir(data_directory)\n",
    "               if os.path.isdir(os.path.join(data_directory, d))]\n",
    "        print(dirs)\n",
    "        labels = []\n",
    "        images = []\n",
    "        for d in dirs:\n",
    "            label_dir = os.path.join(data_directory, d)\n",
    "            file_names= [os.path.join(label_dir, f)\n",
    "                          for f in os.listdir(label_dir)\n",
    "                          if f.endswith(\".ppm\")]\n",
    "            print(label_dir)\n",
    "            print(file_names)\n",
    "            \n",
    "            for f in file_names:\n",
    "                images.append(imd.imread(f))\n",
    "                labels.append(int(d))\n",
    "        return images,labels"
   ]
  },
  {
   "cell_type": "code",
   "execution_count": null,
   "metadata": {},
   "outputs": [],
   "source": [
    "main_dir ='RedesNeuronales/'\n",
    "\n",
    "train_data_dir = os.path.join(main_dir,\"Training\")\n",
    "test_data_dir = os.path.join(main_dir,\"Testing\")"
   ]
  },
  {
   "cell_type": "code",
   "execution_count": null,
   "metadata": {},
   "outputs": [],
   "source": [
    "images, labels = load_ml_data(train_data_dir)"
   ]
  },
  {
   "cell_type": "code",
   "execution_count": null,
   "metadata": {},
   "outputs": [],
   "source": [
    "images = np.array(images)\n",
    "labels = np.array(labels)\n",
    "type(images)"
   ]
  },
  {
   "cell_type": "code",
   "execution_count": null,
   "metadata": {},
   "outputs": [],
   "source": [
    "plt.hist(labels, len (set(labels)))\n",
    "plt.show()"
   ]
  },
  {
   "cell_type": "code",
   "execution_count": null,
   "metadata": {},
   "outputs": [],
   "source": [
    "rand_signs = random.sample(range(0,len(labels)), 10)\n",
    "rand_signs "
   ]
  },
  {
   "cell_type": "code",
   "execution_count": null,
   "metadata": {},
   "outputs": [],
   "source": [
    "for i in range(len(rand_signs)):\n",
    "    temp_im = images[rand_signs[i]]\n",
    "    plt.subplot(1,10,i+1)\n",
    "    plt.axis(\"off\")\n",
    "    plt.imshow(temp_im)\n",
    "    plt.subplots_adjust(wspace= 0.5)\n",
    "    plt.show()\n",
    "    print(\"Forma:{0},min:{1}, max{2}\".format(temp_im.shape, temp_im.min(),temp_im.max()))"
   ]
  },
  {
   "cell_type": "code",
   "execution_count": null,
   "metadata": {},
   "outputs": [],
   "source": [
    "unique_labels=set(labels)\n",
    "plt.figure(figsize=(16,16))\n",
    "i=1\n",
    "for label in unique_labels:\n",
    "    temp_im=images[list(labels).index(label)]\n",
    "    plt.subplot(8,8,i)\n",
    "    plt.axis(\"off\")\n",
    "    plt.title(\"class {0} ({1})\".format(label, list(labels).count(label)))\n",
    "    i+=1\n",
    "    plt.imshow(temp_im)\n",
    "    \n",
    "plt.show()"
   ]
  },
  {
   "cell_type": "code",
   "execution_count": null,
   "metadata": {},
   "outputs": [],
   "source": [
    "from skimage import transform \n",
    "w=9999\n",
    "h= 9999\n",
    "for image in images:\n",
    "    if image.shape[0] < h:\n",
    "        h = image.shape[0]\n",
    "        if image.shape[1] < w:\n",
    "            w= image.shape[1]\n",
    "print(\"Tamaño minimo: {0} x {1}\".format(h,w))"
   ]
  },
  {
   "cell_type": "code",
   "execution_count": null,
   "metadata": {},
   "outputs": [],
   "source": [
    "images30 = [transform.resize(image, (30,30)) for image in images ]"
   ]
  },
  {
   "cell_type": "code",
   "execution_count": null,
   "metadata": {},
   "outputs": [],
   "source": [
    "images30[0]"
   ]
  },
  {
   "cell_type": "code",
   "execution_count": null,
   "metadata": {},
   "outputs": [],
   "source": [
    "rand_signs = random.sample(range(0,len(labels)),10)\n",
    "for i in range(len(rand_signs)):\n",
    "    temp_im = images30[rand_signs[i]]\n",
    "    plt.subplot(1,10,i+1)\n",
    "    plt.axis(\"off\")\n",
    "    plt.imshow(temp_im)\n",
    "    plt.subplots_adjust(wspace=0.5)\n",
    "    plt.show()\n",
    "    print(\"Forma:{0},min:{1}, max{2}\".format(temp_im.shape, temp_im.min(),temp_im.max()))"
   ]
  },
  {
   "cell_type": "code",
   "execution_count": null,
   "metadata": {},
   "outputs": [],
   "source": [
    "from skimage.color import rgb2gray\n",
    "images30 = np.array(images30)\n",
    "images30= rgb2gray(images30)"
   ]
  },
  {
   "cell_type": "markdown",
   "metadata": {},
   "source": [
    "\n",
    "# Definir Red Neuronal"
   ]
  },
  {
   "cell_type": "code",
   "execution_count": null,
   "metadata": {},
   "outputs": [],
   "source": [
    "x= tf.placeholder(dtype = tf.float32, shape=[None,30,30])\n",
    "\n",
    "y= tf.placeholder(dtype=tf.int32, shape=[None])\n",
    "\n",
    "images_flat = tf.contrib.layers.flatten(x)\n",
    "\n",
    "logits = tf.contrib.layers.fully_connected(images_flat, 62, tf.nn.relu)\n",
    "\n",
    "loss = tf.reduce_mean(tf.nn.sparse_softmax_cross_entropy_with_logits(labels =y, logits=logits))\n",
    "\n",
    "train_opt = tf.train.AdamOptimizer(learning_rate = 0.001).minimize(loss)\n",
    "\n",
    "final_pred = tf.argmax(logits, 1)\n",
    "\n",
    "accuracy = tf.reduce_mean(tf.cast(final_pred, tf.float32))"
   ]
  },
  {
   "cell_type": "code",
   "execution_count": null,
   "metadata": {},
   "outputs": [],
   "source": [
    "images_flat\n",
    "logits "
   ]
  },
  {
   "cell_type": "markdown",
   "metadata": {},
   "source": [
    "# Entrenamiento de la Red Nuronal"
   ]
  },
  {
   "cell_type": "code",
   "execution_count": null,
   "metadata": {},
   "outputs": [],
   "source": [
    "tf.set_random_seed(1234)\n",
    "\n",
    "sess = tf.Session()\n",
    "\n",
    "sess.run(tf.global_variables_initializer())\n",
    "\n",
    "for i in range(1501):\n",
    "    _,accuracy_val=sess.run([train_opt, accuracy], feed_dict={\n",
    "                           x: images30,\n",
    "                           y:list(labels)}\n",
    "                           )\n",
    "    if i%50 ==0:\n",
    "        print(\"Eficacia:\",accuracy_val)"
   ]
  },
  {
   "cell_type": "markdown",
   "metadata": {},
   "source": [
    "# Evaluación de la red neuronal"
   ]
  },
  {
   "cell_type": "code",
   "execution_count": null,
   "metadata": {},
   "outputs": [],
   "source": [
    "sample_idx = random.sample(range(len(images30)), 30)\n",
    "sample_images = [images30[i] for i in sample_idx]\n",
    "sample_labels = [labels[i] for i in sample_idx]"
   ]
  },
  {
   "cell_type": "code",
   "execution_count": null,
   "metadata": {},
   "outputs": [],
   "source": [
    "prediction = sess.run([final_pred], feed_dict={x:sample_images}) [0]"
   ]
  },
  {
   "cell_type": "code",
   "execution_count": null,
   "metadata": {},
   "outputs": [],
   "source": [
    "prediction"
   ]
  },
  {
   "cell_type": "code",
   "execution_count": null,
   "metadata": {},
   "outputs": [],
   "source": [
    "sample_labels"
   ]
  },
  {
   "cell_type": "code",
   "execution_count": null,
   "metadata": {},
   "outputs": [],
   "source": [
    "plt.figure(figsize=(16,20))\n",
    "for i in range(len(sample_images)):\n",
    "    real = sample_labels[i]\n",
    "    prediccion = prediction[i]\n",
    "    plt.subplot(10,4,i+1)\n",
    "    plt.axis(\"off\")\n",
    "    color=\"blue\" if real == prediccion else \"red\"\n",
    "    plt.text(32,15, \"Real:{0}\\nPrediccion:{1}\".format(real,prediccion),\n",
    "            fontsize=14, color=color)\n",
    "    plt.imshow(sample_images[i],cmap=\"gray\")\n",
    "plt.show()"
   ]
  },
  {
   "cell_type": "code",
   "execution_count": null,
   "metadata": {},
   "outputs": [],
   "source": []
  }
 ],
 "metadata": {
  "kernelspec": {
   "display_name": "Python 3",
   "language": "python",
   "name": "python3"
  },
  "language_info": {
   "codemirror_mode": {
    "name": "ipython",
    "version": 3
   },
   "file_extension": ".py",
   "mimetype": "text/x-python",
   "name": "python",
   "nbconvert_exporter": "python",
   "pygments_lexer": "ipython3",
   "version": "3.7.6"
  }
 },
 "nbformat": 4,
 "nbformat_minor": 2
}
